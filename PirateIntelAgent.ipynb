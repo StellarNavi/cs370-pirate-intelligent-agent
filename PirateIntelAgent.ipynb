{
 "cells": [
  {
   "cell_type": "markdown",
   "metadata": {},
   "source": [
    "# Treasure Hunt Game Notebook\n",
    "\n",
    "## Read and Review Your Starter Code\n",
    "The theme of this project is a popular treasure hunt game in which the player needs to find the treasure before the pirate does. While you will not be developing the entire game, you will write the part of the game that represents the intelligent agent, which is a pirate in this case. The pirate will try to find the optimal path to the treasure using deep Q-learning. \n",
    "\n",
    "You have been provided with two Python classes and this notebook to help you with this assignment. The first class, TreasureMaze.py, represents the environment, which includes a maze object defined as a matrix. The second class, GameExperience.py, stores the episodes – that is, all the states that come in between the initial state and the terminal state. This is later used by the agent for learning by experience, called \"exploration\". This notebook shows how to play a game. Your task is to complete the deep Q-learning implementation for which a skeleton implementation has been provided. The code blocks you will need to complete has #TODO as a header.\n",
    "\n",
    "First, read and review the next few code and instruction blocks to understand the code that you have been given."
   ]
  },
  {
   "cell_type": "code",
   "execution_count": 1,
   "metadata": {},
   "outputs": [
    {
     "name": "stderr",
     "output_type": "stream",
     "text": [
      "Using TensorFlow backend.\n"
     ]
    }
   ],
   "source": [
    "from __future__ import print_function\n",
    "import os, sys, time, datetime, json, random\n",
    "import numpy as np\n",
    "from keras.models import Sequential\n",
    "from keras.layers.core import Dense, Activation\n",
    "from keras.optimizers import SGD , Adam, RMSprop\n",
    "from keras.layers.advanced_activations import PReLU\n",
    "import matplotlib.pyplot as plt\n",
    "from TreasureMaze import TreasureMaze\n",
    "from GameExperience import GameExperience\n",
    "%matplotlib inline"
   ]
  },
  {
   "cell_type": "markdown",
   "metadata": {},
   "source": [
    "The following code block contains an 8x8 matrix that will be used as a maze object:"
   ]
  },
  {
   "cell_type": "code",
   "execution_count": 2,
   "metadata": {},
   "outputs": [],
   "source": [
    "maze = np.array([\n",
    "    [ 1.,  0.,  1.,  1.,  1.,  1.,  1.,  1.],\n",
    "    [ 1.,  0.,  1.,  1.,  1.,  0.,  1.,  1.],\n",
    "    [ 1.,  1.,  1.,  1.,  0.,  1.,  0.,  1.],\n",
    "    [ 1.,  1.,  1.,  0.,  1.,  1.,  1.,  1.],\n",
    "    [ 1.,  1.,  0.,  1.,  1.,  1.,  1.,  1.],\n",
    "    [ 1.,  1.,  1.,  0.,  1.,  0.,  0.,  0.],\n",
    "    [ 1.,  1.,  1.,  0.,  1.,  1.,  1.,  1.],\n",
    "    [ 1.,  1.,  1.,  1.,  0.,  1.,  1.,  1.]\n",
    "])"
   ]
  },
  {
   "cell_type": "markdown",
   "metadata": {},
   "source": [
    "This helper function allows a visual representation of the maze object:"
   ]
  },
  {
   "cell_type": "code",
   "execution_count": 3,
   "metadata": {},
   "outputs": [],
   "source": [
    "def show(qmaze):\n",
    "    plt.grid('on')\n",
    "    nrows, ncols = qmaze.maze.shape\n",
    "    ax = plt.gca()\n",
    "    ax.set_xticks(np.arange(0.5, nrows, 1))\n",
    "    ax.set_yticks(np.arange(0.5, ncols, 1))\n",
    "    ax.set_xticklabels([])\n",
    "    ax.set_yticklabels([])\n",
    "    canvas = np.copy(qmaze.maze)\n",
    "    for row,col in qmaze.visited:\n",
    "        canvas[row,col] = 0.6\n",
    "    pirate_row, pirate_col, _ = qmaze.state\n",
    "    canvas[pirate_row, pirate_col] = 0.3   # pirate cell\n",
    "    canvas[nrows-1, ncols-1] = 0.9 # treasure cell\n",
    "    img = plt.imshow(canvas, interpolation='none', cmap='gray')\n",
    "    return img"
   ]
  },
  {
   "cell_type": "markdown",
   "metadata": {},
   "source": [
    "The pirate agent can move in four directions: left, right, up, and down. \n",
    "\n",
    "While the agent primarily learns by experience through exploitation, often, the agent can choose to explore the environment to find previously undiscovered paths. This is called \"exploration\" and is defined by epsilon. This value is typically a lower value such as 0.1, which means for every ten attempts, the agent will attempt to learn by experience nine times and will randomly explore a new path one time. You are encouraged to try various values for the exploration factor and see how the algorithm performs."
   ]
  },
  {
   "cell_type": "code",
   "execution_count": 4,
   "metadata": {},
   "outputs": [],
   "source": [
    "LEFT = 0\n",
    "UP = 1\n",
    "RIGHT = 2\n",
    "DOWN = 3\n",
    "\n",
    "\n",
    "# Exploration factor\n",
    "epsilon = 0.1\n",
    "\n",
    "# Actions dictionary\n",
    "actions_dict = {\n",
    "    LEFT: 'left',\n",
    "    UP: 'up',\n",
    "    RIGHT: 'right',\n",
    "    DOWN: 'down',\n",
    "}\n",
    "\n",
    "num_actions = len(actions_dict)\n"
   ]
  },
  {
   "cell_type": "markdown",
   "metadata": {},
   "source": [
    "The sample code block and output below show creating a maze object and performing one action (DOWN), which returns the reward. The resulting updated environment is visualized."
   ]
  },
  {
   "cell_type": "code",
   "execution_count": 5,
   "metadata": {},
   "outputs": [
    {
     "name": "stdout",
     "output_type": "stream",
     "text": [
      "reward= -0.04\n"
     ]
    },
    {
     "data": {
      "text/plain": [
       "<matplotlib.image.AxesImage at 0x22d8345db08>"
      ]
     },
     "execution_count": 5,
     "metadata": {},
     "output_type": "execute_result"
    },
    {
     "data": {
      "image/png": "[encoded data removed]",
      "text/plain": [
       "<Figure size 432x288 with 1 Axes>"
      ]
     },
     "metadata": {
      "needs_background": "light"
     },
     "output_type": "display_data"
    }
   ],
   "source": [
    "qmaze = TreasureMaze(maze)\n",
    "canvas, reward, game_over = qmaze.act(DOWN)\n",
    "print(\"reward=\", reward)\n",
    "show(qmaze)"
   ]
  },
  {
   "cell_type": "markdown",
   "metadata": {},
   "source": [
    "This function simulates a full game based on the provided trained model. The other parameters include the TreasureMaze object and the starting position of the pirate."
   ]
  },
  {
   "cell_type": "code",
   "execution_count": 6,
   "metadata": {},
   "outputs": [],
   "source": [
    "def play_game(model, qmaze, pirate_cell):\n",
    "    qmaze.reset(pirate_cell)\n",
    "    envstate = qmaze.observe()\n",
    "    while True:\n",
    "        prev_envstate = envstate\n",
    "        # get next action\n",
    "        q = model.predict(prev_envstate)\n",
    "        action = np.argmax(q[0])\n",
    "\n",
    "        # apply action, get rewards and new state\n",
    "        envstate, reward, game_status = qmaze.act(action)\n",
    "        if game_status == 'win':\n",
    "            return True\n",
    "        elif game_status == 'lose':\n",
    "            return False"
   ]
  },
  {
   "cell_type": "markdown",
   "metadata": {},
   "source": [
    "This function helps you to determine whether the pirate can win any game at all. If your maze is not well designed, the pirate may not win any game at all. In this case, your training would not yield any result. The provided maze in this notebook ensures that there is a path to win and you can run this method to check."
   ]
  },
  {
   "cell_type": "code",
   "execution_count": 7,
   "metadata": {},
   "outputs": [],
   "source": [
    "def completion_check(model, qmaze):\n",
    "    for cell in qmaze.free_cells:\n",
    "        if not qmaze.valid_actions(cell):\n",
    "            return False\n",
    "        if not play_game(model, qmaze, cell):\n",
    "            return False\n",
    "    return True"
   ]
  },
  {
   "cell_type": "markdown",
   "metadata": {},
   "source": [
    "The code you have been given in this block will build the neural network model. Review the code and note the number of layers, as well as the activation, optimizer, and loss functions that are used to train the model."
   ]
  },
  {
   "cell_type": "code",
   "execution_count": 8,
   "metadata": {},
   "outputs": [],
   "source": [
    "def build_model(maze):\n",
    "    model = Sequential()\n",
    "    model.add(Dense(maze.size, input_shape=(maze.size,)))\n",
    "    model.add(PReLU())\n",
    "    model.add(Dense(maze.size))\n",
    "    model.add(PReLU())\n",
    "    model.add(Dense(num_actions))\n",
    "    model.compile(optimizer='adam', loss='mse')\n",
    "    return model"
   ]
  },
  {
   "cell_type": "markdown",
   "metadata": {},
   "source": [
    "# #TODO: Complete the Q-Training Algorithm Code Block\n",
    "\n",
    "This is your deep Q-learning implementation. The goal of your deep Q-learning implementation is to find the best possible navigation sequence that results in reaching the treasure cell while maximizing the reward. In your implementation, you need to determine the optimal number of epochs to achieve a 100% win rate.\n",
    "\n",
    "You will need to complete the section starting with #pseudocode. The pseudocode has been included for you."
   ]
  },
  {
   "cell_type": "code",
   "execution_count": 9,
   "metadata": {},
   "outputs": [],
   "source": [
    "def qtrain(model, maze, **opt):\n",
    "\n",
    "    # exploration factor\n",
    "    global epsilon \n",
    "\n",
    "    # number of epochs\n",
    "    n_epoch = opt.get('n_epoch', 15000)\n",
    "\n",
    "    # maximum memory to store episodes\n",
    "    max_memory = opt.get('max_memory', 1000)\n",
    "\n",
    "    # maximum data size for training\n",
    "    data_size = opt.get('data_size', 50)\n",
    "\n",
    "    # start time\n",
    "    start_time = datetime.datetime.now()\n",
    "\n",
    "    # Construct environment/game from numpy array: maze (see above)\n",
    "    qmaze = TreasureMaze(maze)\n",
    "\n",
    "    # Initialize experience replay object\n",
    "    experience = GameExperience(model, max_memory=max_memory)\n",
    "    \n",
    "    win_history = []   # history of win/lose game\n",
    "    hsize = qmaze.maze.size//2   # history window size\n",
    "    win_rate = 0.0\n",
    "    \n",
    "    # pseudocode:\n",
    "    # For each epoch:\n",
    "    #    DONE: Agent_cell = randomly select a free cell\n",
    "    #    DONE: Reset the maze with agent set to above position\n",
    "    #    DONE: Hint: Review the reset method in the TreasureMaze.py class.\n",
    "    #    DONE: envstate = Environment.current_state\n",
    "    #    DONE: Hint: Review the observe method in the TreasureMaze.py class.\n",
    "    #    DONE: While state is not game over:\n",
    "    #    DONE:     previous_envstate = envstate\n",
    "    #    DONE:     Action = randomly choose action (left, right, up, down) either by exploration or by exploitation\n",
    "    #    DONE:     envstate, reward, game_status = qmaze.act(action)\n",
    "    #    DONE: Hint: Review the act method in the TreasureMaze.py class.\n",
    "    #    DONE:     episode = [previous_envstate, action, reward, envstate, game_status]\n",
    "    #    DONE:     Store episode in Experience replay object\n",
    "    #    DONE: Hint: Review the remember method in the GameExperience.py class.\n",
    "    #    DONE:     Train neural network model and evaluate loss\n",
    "    #    DONE: Hint: Call GameExperience.get_data to retrieve training data (input and target) and pass to model.fit method \n",
    "    #    DONE:       to train the model. You can call model.evaluate to determine loss.\n",
    "    #    DONE: If the win rate is above the threshold and your model passes the completion check, that would be your epoch.\n",
    "\n",
    "    for epoch in range(n_epoch):\n",
    "        loss = 0.0 #reset for each epoch, checking how far off the model's predicted Q-val is from target\n",
    "        n_episodes = 0 # reset counter at start to track number of steps taken for each iteration \n",
    "        win = 0 #reset to track each epoch\n",
    "\n",
    "        # Agent_cell = randomly select a free cell\n",
    "        agent_cell = random.choice(qmaze.free_cells)\n",
    "\n",
    "        # Reset the maze with agent set to above position\n",
    "        # Hint: Review the reset method in the TreasureMaze.py class.\n",
    "        qmaze.reset(agent_cell)\n",
    "\n",
    "        # envstate = Environment.current_state\n",
    "        # Hint: Review the observe method in the TreasureMaze.py class.\n",
    "        envstate = qmaze.observe()\n",
    "\n",
    "        # While state is not game over:\n",
    "        game_over = False #preset with game over as false\n",
    "        while not game_over:\n",
    "            previous_envstate = envstate # which is the last observed state of the game board\n",
    "            # Action = randomly choose action (left, right, up, down) either by exploration or by exploitation\n",
    "            if np.random.rand() < epsilon:\n",
    "                # then go by exploration and move to a random available cell on the board\n",
    "                action = random.choice(qmaze.valid_actions())\n",
    "            else:\n",
    "                # else go by exploitation, choosing the action with the highest predicted Q-val\n",
    "                q_values = model.predict(previous_envstate)\n",
    "                action = np.argmax(q_values[0])\n",
    "           \n",
    "            # takes action and gets new state, reward, and game status from environment\n",
    "            envstate, reward, game_status = qmaze.act(action) \n",
    "            # updates the binary T/F flag needed for while loop after \n",
    "            # checking act() > game_status() which can return 3 different values\n",
    "            game_over = (game_status != 'not_over') \n",
    "\n",
    "            episode = [previous_envstate, action, reward, envstate, game_status]\n",
    "\n",
    "            # Store episode in Experience replay object\n",
    "            experience.remember(episode)\n",
    "\n",
    "            # Train neural network model and evaluate loss\n",
    "            inputs, targets = experience.get_data(data_size=data_size)\n",
    "            model.fit(inputs, targets, epochs = 1, verbose = 0)\n",
    "            eval_loss = model.evaluate(inputs, targets, verbose = 0)\n",
    "            loss += eval_loss\n",
    "            n_episodes += 1\n",
    "\n",
    "            # check if game won and end if so\n",
    "            if game_status == 'win':\n",
    "                win = 1\n",
    "                break\n",
    "\n",
    "        # get win rate\n",
    "        win_history.append(win)\n",
    "        if len(win_history) > hsize:\n",
    "            win_history = win_history[-hsize:]\n",
    "        \n",
    "        win_rate = sum(win_history) / len(win_history)\n",
    "\n",
    "\n",
    "    #Print the epoch, loss, episodes, win count, and win rate for each epoch\n",
    "        dt = datetime.datetime.now() - start_time\n",
    "        t = format_time(dt.total_seconds())\n",
    "        template = \"Epoch: {:03d}/{:d} | Loss: {:.4f} | Episodes: {:d} | Win count: {:d} | Win rate: {:.3f} | time: {}\"\n",
    "        print(template.format(epoch, n_epoch-1, loss, n_episodes, sum(win_history), win_rate, t))\n",
    "        # We simply check if training has exhausted all free cells and if in all\n",
    "        # cases the agent won.\n",
    "        if win_rate > 0.9 : epsilon = 0.05\n",
    "        if sum(win_history[-hsize:]) == hsize and completion_check(model, qmaze):\n",
    "            print(\"Reached 100%% win rate at epoch: %d\" % (epoch,))\n",
    "            break\n",
    "    \n",
    "    \n",
    "    # Determine the total time for training\n",
    "    dt = datetime.datetime.now() - start_time\n",
    "    seconds = dt.total_seconds()\n",
    "    t = format_time(seconds)\n",
    "\n",
    "    print(\"n_epoch: %d, max_mem: %d, data: %d, time: %s\" % (epoch, max_memory, data_size, t))\n",
    "    return seconds\n",
    "\n",
    "# This is a small utility for printing readable time strings:\n",
    "def format_time(seconds):\n",
    "    if seconds < 400:\n",
    "        s = float(seconds)\n",
    "        return \"%.1f seconds\" % (s,)\n",
    "    elif seconds < 4000:\n",
    "        m = seconds / 60.0\n",
    "        return \"%.2f minutes\" % (m,)\n",
    "    else:\n",
    "        h = seconds / 3600.0\n",
    "        return \"%.2f hours\" % (h,)"
   ]
  },
  {
   "cell_type": "markdown",
   "metadata": {},
   "source": [
    "## Test Your Model\n",
    "\n",
    "Now we will start testing the deep Q-learning implementation. To begin, select **Cell**, then **Run All** from the menu bar. This will run your notebook. As it runs, you should see output begin to appear beneath the next few cells. The code below creates an instance of TreasureMaze."
   ]
  },
  {
   "cell_type": "code",
   "execution_count": 10,
   "metadata": {},
   "outputs": [
    {
     "data": {
      "text/plain": [
       "<matplotlib.image.AxesImage at 0x22d83522c08>"
      ]
     },
     "execution_count": 10,
     "metadata": {},
     "output_type": "execute_result"
    },
    {
     "data": {
      "image/png": "[encoded data removed]",
      "text/plain": [
       "<Figure size 432x288 with 1 Axes>"
      ]
     },
     "metadata": {
      "needs_background": "light"
     },
     "output_type": "display_data"
    }
   ],
   "source": [
    "qmaze = TreasureMaze(maze)\n",
    "show(qmaze)"
   ]
  },
  {
   "cell_type": "markdown",
   "metadata": {},
   "source": [
    "In the next code block, you will build your model and train it using deep Q-learning. Note: This step takes several minutes to fully run."
   ]
  },
  {
   "cell_type": "code",
   "execution_count": 11,
   "metadata": {},
   "outputs": [
    {
     "name": "stdout",
     "output_type": "stream",
     "text": [
      "Epoch: 000/14999 | Loss: 0.3849 | Episodes: 144 | Win count: 0 | Win rate: 0.000 | time: 15.8 seconds\n",
      "Epoch: 001/14999 | Loss: 0.2223 | Episodes: 139 | Win count: 0 | Win rate: 0.000 | time: 31.4 seconds\n",
      "Epoch: 002/14999 | Loss: 0.1661 | Episodes: 134 | Win count: 0 | Win rate: 0.000 | time: 46.1 seconds\n",
      "Epoch: 003/14999 | Loss: 0.1293 | Episodes: 136 | Win count: 0 | Win rate: 0.000 | time: 61.8 seconds\n",
      "Epoch: 004/14999 | Loss: 0.1080 | Episodes: 134 | Win count: 0 | Win rate: 0.000 | time: 75.5 seconds\n",
      "Epoch: 005/14999 | Loss: 0.0755 | Episodes: 135 | Win count: 0 | Win rate: 0.000 | time: 91.4 seconds\n",
      "Epoch: 006/14999 | Loss: 0.1015 | Episodes: 145 | Win count: 0 | Win rate: 0.000 | time: 108.3 seconds\n",
      "Epoch: 007/14999 | Loss: 0.1668 | Episodes: 149 | Win count: 0 | Win rate: 0.000 | time: 123.8 seconds\n",
      "Epoch: 008/14999 | Loss: 0.2138 | Episodes: 145 | Win count: 0 | Win rate: 0.000 | time: 138.8 seconds\n",
      "Epoch: 009/14999 | Loss: 0.1910 | Episodes: 132 | Win count: 1 | Win rate: 0.100 | time: 152.6 seconds\n",
      "Epoch: 010/14999 | Loss: 0.2974 | Episodes: 135 | Win count: 1 | Win rate: 0.091 | time: 166.0 seconds\n",
      "Epoch: 011/14999 | Loss: 0.2641 | Episodes: 140 | Win count: 1 | Win rate: 0.083 | time: 179.7 seconds\n",
      "Epoch: 012/14999 | Loss: 0.2447 | Episodes: 146 | Win count: 1 | Win rate: 0.077 | time: 193.2 seconds\n",
      "Epoch: 013/14999 | Loss: 0.1514 | Episodes: 84 | Win count: 2 | Win rate: 0.143 | time: 200.6 seconds\n",
      "Epoch: 014/14999 | Loss: 0.2638 | Episodes: 145 | Win count: 2 | Win rate: 0.133 | time: 213.4 seconds\n",
      "Epoch: 015/14999 | Loss: 0.2427 | Episodes: 140 | Win count: 2 | Win rate: 0.125 | time: 226.1 seconds\n",
      "Epoch: 016/14999 | Loss: 0.3167 | Episodes: 155 | Win count: 2 | Win rate: 0.118 | time: 239.8 seconds\n",
      "Epoch: 017/14999 | Loss: 0.2723 | Episodes: 139 | Win count: 2 | Win rate: 0.111 | time: 252.1 seconds\n",
      "Epoch: 018/14999 | Loss: 0.1793 | Episodes: 142 | Win count: 2 | Win rate: 0.105 | time: 264.7 seconds\n",
      "Epoch: 019/14999 | Loss: 0.1577 | Episodes: 139 | Win count: 2 | Win rate: 0.100 | time: 277.1 seconds\n",
      "Epoch: 020/14999 | Loss: 0.1582 | Episodes: 148 | Win count: 2 | Win rate: 0.095 | time: 290.0 seconds\n",
      "Epoch: 021/14999 | Loss: 0.1556 | Episodes: 146 | Win count: 2 | Win rate: 0.091 | time: 302.4 seconds\n",
      "Epoch: 022/14999 | Loss: 0.1912 | Episodes: 155 | Win count: 2 | Win rate: 0.087 | time: 316.4 seconds\n",
      "Epoch: 023/14999 | Loss: 0.0113 | Episodes: 8 | Win count: 3 | Win rate: 0.125 | time: 317.2 seconds\n",
      "Epoch: 024/14999 | Loss: 0.2833 | Episodes: 141 | Win count: 3 | Win rate: 0.120 | time: 329.2 seconds\n",
      "Epoch: 025/14999 | Loss: 0.2678 | Episodes: 143 | Win count: 3 | Win rate: 0.115 | time: 341.3 seconds\n",
      "Epoch: 026/14999 | Loss: 0.1444 | Episodes: 85 | Win count: 4 | Win rate: 0.148 | time: 349.1 seconds\n",
      "Epoch: 027/14999 | Loss: 0.4972 | Episodes: 145 | Win count: 4 | Win rate: 0.143 | time: 362.4 seconds\n",
      "Epoch: 028/14999 | Loss: 0.3184 | Episodes: 144 | Win count: 4 | Win rate: 0.138 | time: 375.7 seconds\n",
      "Epoch: 029/14999 | Loss: 0.1249 | Episodes: 73 | Win count: 5 | Win rate: 0.167 | time: 383.0 seconds\n",
      "Epoch: 030/14999 | Loss: 0.0385 | Episodes: 19 | Win count: 6 | Win rate: 0.194 | time: 385.3 seconds\n",
      "Epoch: 031/14999 | Loss: 0.3464 | Episodes: 150 | Win count: 6 | Win rate: 0.188 | time: 6.68 minutes\n",
      "Epoch: 032/14999 | Loss: 0.0632 | Episodes: 28 | Win count: 7 | Win rate: 0.219 | time: 6.73 minutes\n",
      "Epoch: 033/14999 | Loss: 0.0462 | Episodes: 20 | Win count: 8 | Win rate: 0.250 | time: 6.76 minutes\n",
      "Epoch: 034/14999 | Loss: 0.0139 | Episodes: 5 | Win count: 9 | Win rate: 0.281 | time: 6.77 minutes\n",
      "Epoch: 035/14999 | Loss: 0.1080 | Episodes: 48 | Win count: 10 | Win rate: 0.312 | time: 6.85 minutes\n",
      "Epoch: 036/14999 | Loss: 0.0525 | Episodes: 22 | Win count: 11 | Win rate: 0.344 | time: 6.89 minutes\n",
      "Epoch: 037/14999 | Loss: 0.2878 | Episodes: 160 | Win count: 11 | Win rate: 0.344 | time: 7.17 minutes\n",
      "Epoch: 038/14999 | Loss: 0.2185 | Episodes: 126 | Win count: 12 | Win rate: 0.375 | time: 7.40 minutes\n",
      "Epoch: 039/14999 | Loss: 0.0369 | Episodes: 20 | Win count: 13 | Win rate: 0.406 | time: 7.43 minutes\n",
      "Epoch: 040/14999 | Loss: 0.1189 | Episodes: 60 | Win count: 14 | Win rate: 0.438 | time: 7.54 minutes\n",
      "Epoch: 041/14999 | Loss: 0.2149 | Episodes: 110 | Win count: 14 | Win rate: 0.438 | time: 7.70 minutes\n",
      "Epoch: 042/14999 | Loss: 0.1009 | Episodes: 52 | Win count: 15 | Win rate: 0.469 | time: 7.78 minutes\n",
      "Epoch: 043/14999 | Loss: 0.0891 | Episodes: 46 | Win count: 16 | Win rate: 0.500 | time: 7.85 minutes\n",
      "Epoch: 044/14999 | Loss: 0.2396 | Episodes: 135 | Win count: 16 | Win rate: 0.500 | time: 8.07 minutes\n",
      "Epoch: 045/14999 | Loss: 0.2204 | Episodes: 139 | Win count: 15 | Win rate: 0.469 | time: 8.29 minutes\n",
      "Epoch: 046/14999 | Loss: 0.0085 | Episodes: 7 | Win count: 16 | Win rate: 0.500 | time: 8.30 minutes\n",
      "Epoch: 047/14999 | Loss: 0.1926 | Episodes: 146 | Win count: 16 | Win rate: 0.500 | time: 8.55 minutes\n",
      "Epoch: 048/14999 | Loss: 0.0163 | Episodes: 12 | Win count: 17 | Win rate: 0.531 | time: 8.57 minutes\n",
      "Epoch: 049/14999 | Loss: 0.0356 | Episodes: 25 | Win count: 18 | Win rate: 0.562 | time: 8.61 minutes\n",
      "Epoch: 050/14999 | Loss: 0.0378 | Episodes: 29 | Win count: 19 | Win rate: 0.594 | time: 8.66 minutes\n",
      "Epoch: 051/14999 | Loss: 0.1488 | Episodes: 114 | Win count: 20 | Win rate: 0.625 | time: 8.84 minutes\n",
      "Epoch: 052/14999 | Loss: 0.1605 | Episodes: 117 | Win count: 21 | Win rate: 0.656 | time: 9.04 minutes\n",
      "Epoch: 053/14999 | Loss: 0.0112 | Episodes: 6 | Win count: 22 | Win rate: 0.688 | time: 9.05 minutes\n",
      "Epoch: 054/14999 | Loss: 0.0177 | Episodes: 9 | Win count: 23 | Win rate: 0.719 | time: 9.07 minutes\n",
      "Epoch: 055/14999 | Loss: 0.0496 | Episodes: 31 | Win count: 23 | Win rate: 0.719 | time: 9.12 minutes\n",
      "Epoch: 056/14999 | Loss: 0.1242 | Episodes: 67 | Win count: 24 | Win rate: 0.750 | time: 9.23 minutes\n",
      "Epoch: 057/14999 | Loss: 0.0135 | Episodes: 7 | Win count: 25 | Win rate: 0.781 | time: 9.24 minutes\n",
      "Epoch: 058/14999 | Loss: 0.0645 | Episodes: 34 | Win count: 25 | Win rate: 0.781 | time: 9.29 minutes\n",
      "Epoch: 059/14999 | Loss: 0.0119 | Episodes: 6 | Win count: 26 | Win rate: 0.812 | time: 9.30 minutes\n",
      "Epoch: 060/14999 | Loss: 0.0034 | Episodes: 2 | Win count: 27 | Win rate: 0.844 | time: 9.30 minutes\n",
      "Epoch: 061/14999 | Loss: 0.0162 | Episodes: 10 | Win count: 27 | Win rate: 0.844 | time: 9.32 minutes\n",
      "Epoch: 062/14999 | Loss: 0.1966 | Episodes: 133 | Win count: 27 | Win rate: 0.844 | time: 9.53 minutes\n",
      "Epoch: 063/14999 | Loss: 0.0899 | Episodes: 60 | Win count: 28 | Win rate: 0.875 | time: 9.62 minutes\n",
      "Epoch: 064/14999 | Loss: 0.0337 | Episodes: 23 | Win count: 28 | Win rate: 0.875 | time: 9.66 minutes\n",
      "Epoch: 065/14999 | Loss: 0.0342 | Episodes: 18 | Win count: 28 | Win rate: 0.875 | time: 9.68 minutes\n",
      "Epoch: 066/14999 | Loss: 0.0025 | Episodes: 2 | Win count: 28 | Win rate: 0.875 | time: 9.69 minutes\n",
      "Epoch: 067/14999 | Loss: 0.0087 | Episodes: 7 | Win count: 28 | Win rate: 0.875 | time: 9.70 minutes\n",
      "Epoch: 068/14999 | Loss: 0.0347 | Episodes: 21 | Win count: 28 | Win rate: 0.875 | time: 9.73 minutes\n",
      "Epoch: 069/14999 | Loss: 0.0053 | Episodes: 3 | Win count: 29 | Win rate: 0.906 | time: 9.74 minutes\n",
      "Epoch: 070/14999 | Loss: 0.0407 | Episodes: 26 | Win count: 29 | Win rate: 0.906 | time: 9.79 minutes\n",
      "Epoch: 071/14999 | Loss: 0.0135 | Episodes: 10 | Win count: 29 | Win rate: 0.906 | time: 9.81 minutes\n",
      "Epoch: 072/14999 | Loss: 0.0133 | Episodes: 10 | Win count: 29 | Win rate: 0.906 | time: 9.82 minutes\n",
      "Epoch: 073/14999 | Loss: 0.0850 | Episodes: 59 | Win count: 29 | Win rate: 0.906 | time: 9.92 minutes\n",
      "Epoch: 074/14999 | Loss: 0.0190 | Episodes: 13 | Win count: 29 | Win rate: 0.906 | time: 9.95 minutes\n",
      "Epoch: 075/14999 | Loss: 0.0173 | Episodes: 16 | Win count: 29 | Win rate: 0.906 | time: 9.97 minutes\n",
      "Epoch: 076/14999 | Loss: 0.0423 | Episodes: 34 | Win count: 30 | Win rate: 0.938 | time: 10.02 minutes\n",
      "Epoch: 077/14999 | Loss: 0.0117 | Episodes: 11 | Win count: 31 | Win rate: 0.969 | time: 10.04 minutes\n",
      "Epoch: 078/14999 | Loss: 0.0118 | Episodes: 11 | Win count: 31 | Win rate: 0.969 | time: 10.05 minutes\n",
      "Epoch: 079/14999 | Loss: 0.0509 | Episodes: 48 | Win count: 32 | Win rate: 1.000 | time: 10.13 minutes\n",
      "Epoch: 080/14999 | Loss: 0.0132 | Episodes: 12 | Win count: 32 | Win rate: 1.000 | time: 10.15 minutes\n",
      "Epoch: 081/14999 | Loss: 0.0261 | Episodes: 25 | Win count: 32 | Win rate: 1.000 | time: 10.19 minutes\n",
      "Epoch: 082/14999 | Loss: 0.0343 | Episodes: 31 | Win count: 32 | Win rate: 1.000 | time: 10.24 minutes\n",
      "Epoch: 083/14999 | Loss: 0.0231 | Episodes: 22 | Win count: 32 | Win rate: 1.000 | time: 10.29 minutes\n",
      "Epoch: 084/14999 | Loss: 0.0007 | Episodes: 1 | Win count: 32 | Win rate: 1.000 | time: 10.29 minutes\n",
      "Epoch: 085/14999 | Loss: 0.0130 | Episodes: 15 | Win count: 32 | Win rate: 1.000 | time: 10.32 minutes\n",
      "Epoch: 086/14999 | Loss: 0.0025 | Episodes: 3 | Win count: 32 | Win rate: 1.000 | time: 10.33 minutes\n",
      "Epoch: 087/14999 | Loss: 0.0014 | Episodes: 2 | Win count: 32 | Win rate: 1.000 | time: 10.33 minutes\n",
      "Epoch: 088/14999 | Loss: 0.0188 | Episodes: 19 | Win count: 32 | Win rate: 1.000 | time: 10.37 minutes\n",
      "Epoch: 089/14999 | Loss: 0.0043 | Episodes: 4 | Win count: 32 | Win rate: 1.000 | time: 10.38 minutes\n",
      "Epoch: 090/14999 | Loss: 0.0115 | Episodes: 10 | Win count: 32 | Win rate: 1.000 | time: 10.40 minutes\n",
      "Epoch: 091/14999 | Loss: 0.0213 | Episodes: 23 | Win count: 32 | Win rate: 1.000 | time: 10.44 minutes\n",
      "Epoch: 092/14999 | Loss: 0.0234 | Episodes: 23 | Win count: 32 | Win rate: 1.000 | time: 10.48 minutes\n",
      "Epoch: 093/14999 | Loss: 0.0041 | Episodes: 4 | Win count: 32 | Win rate: 1.000 | time: 10.49 minutes\n",
      "Epoch: 094/14999 | Loss: 0.0250 | Episodes: 31 | Win count: 32 | Win rate: 1.000 | time: 10.54 minutes\n",
      "Epoch: 095/14999 | Loss: 0.0195 | Episodes: 27 | Win count: 32 | Win rate: 1.000 | time: 10.59 minutes\n",
      "Epoch: 096/14999 | Loss: 0.0225 | Episodes: 32 | Win count: 32 | Win rate: 1.000 | time: 10.65 minutes\n",
      "Epoch: 097/14999 | Loss: 0.0150 | Episodes: 18 | Win count: 32 | Win rate: 1.000 | time: 10.68 minutes\n",
      "Epoch: 098/14999 | Loss: 0.0129 | Episodes: 11 | Win count: 32 | Win rate: 1.000 | time: 10.70 minutes\n",
      "Epoch: 099/14999 | Loss: 0.0042 | Episodes: 4 | Win count: 32 | Win rate: 1.000 | time: 10.71 minutes\n",
      "Epoch: 100/14999 | Loss: 0.0145 | Episodes: 16 | Win count: 32 | Win rate: 1.000 | time: 10.74 minutes\n",
      "Epoch: 101/14999 | Loss: 0.0317 | Episodes: 42 | Win count: 32 | Win rate: 1.000 | time: 10.82 minutes\n",
      "Epoch: 102/14999 | Loss: 0.0179 | Episodes: 20 | Win count: 32 | Win rate: 1.000 | time: 10.85 minutes\n",
      "Epoch: 103/14999 | Loss: 0.0308 | Episodes: 35 | Win count: 32 | Win rate: 1.000 | time: 10.92 minutes\n",
      "Epoch: 104/14999 | Loss: 0.0089 | Episodes: 11 | Win count: 32 | Win rate: 1.000 | time: 10.94 minutes\n",
      "Epoch: 105/14999 | Loss: 0.0223 | Episodes: 25 | Win count: 32 | Win rate: 1.000 | time: 10.98 minutes\n",
      "Epoch: 106/14999 | Loss: 0.0098 | Episodes: 10 | Win count: 32 | Win rate: 1.000 | time: 11.00 minutes\n",
      "Epoch: 107/14999 | Loss: 0.0253 | Episodes: 36 | Win count: 32 | Win rate: 1.000 | time: 11.06 minutes\n",
      "Epoch: 108/14999 | Loss: 0.0060 | Episodes: 12 | Win count: 32 | Win rate: 1.000 | time: 11.08 minutes\n",
      "Epoch: 109/14999 | Loss: 0.0326 | Episodes: 40 | Win count: 32 | Win rate: 1.000 | time: 11.15 minutes\n",
      "Epoch: 110/14999 | Loss: 0.0140 | Episodes: 22 | Win count: 32 | Win rate: 1.000 | time: 11.18 minutes\n",
      "Epoch: 111/14999 | Loss: 0.0073 | Episodes: 9 | Win count: 32 | Win rate: 1.000 | time: 11.20 minutes\n",
      "Epoch: 112/14999 | Loss: 0.0240 | Episodes: 31 | Win count: 32 | Win rate: 1.000 | time: 11.25 minutes\n",
      "Epoch: 113/14999 | Loss: 0.0089 | Episodes: 12 | Win count: 32 | Win rate: 1.000 | time: 11.26 minutes\n",
      "Epoch: 114/14999 | Loss: 0.0214 | Episodes: 28 | Win count: 32 | Win rate: 1.000 | time: 11.31 minutes\n",
      "Epoch: 115/14999 | Loss: 0.0116 | Episodes: 18 | Win count: 32 | Win rate: 1.000 | time: 11.33 minutes\n",
      "Epoch: 116/14999 | Loss: 0.0134 | Episodes: 24 | Win count: 32 | Win rate: 1.000 | time: 11.38 minutes\n",
      "Epoch: 117/14999 | Loss: 0.0103 | Episodes: 17 | Win count: 32 | Win rate: 1.000 | time: 11.42 minutes\n",
      "Epoch: 118/14999 | Loss: 0.0012 | Episodes: 2 | Win count: 32 | Win rate: 1.000 | time: 11.42 minutes\n",
      "Epoch: 119/14999 | Loss: 0.0152 | Episodes: 21 | Win count: 32 | Win rate: 1.000 | time: 11.46 minutes\n",
      "Epoch: 120/14999 | Loss: 0.0137 | Episodes: 20 | Win count: 32 | Win rate: 1.000 | time: 11.49 minutes\n",
      "Epoch: 121/14999 | Loss: 0.0294 | Episodes: 34 | Win count: 32 | Win rate: 1.000 | time: 11.55 minutes\n",
      "Epoch: 122/14999 | Loss: 0.0015 | Episodes: 2 | Win count: 32 | Win rate: 1.000 | time: 11.56 minutes\n",
      "Epoch: 123/14999 | Loss: 0.0056 | Episodes: 5 | Win count: 32 | Win rate: 1.000 | time: 11.57 minutes\n",
      "Epoch: 124/14999 | Loss: 0.0254 | Episodes: 31 | Win count: 32 | Win rate: 1.000 | time: 11.63 minutes\n",
      "Epoch: 125/14999 | Loss: 0.0058 | Episodes: 8 | Win count: 32 | Win rate: 1.000 | time: 11.65 minutes\n",
      "Epoch: 126/14999 | Loss: 0.0161 | Episodes: 23 | Win count: 32 | Win rate: 1.000 | time: 11.68 minutes\n",
      "Epoch: 127/14999 | Loss: 0.0347 | Episodes: 51 | Win count: 32 | Win rate: 1.000 | time: 11.77 minutes\n",
      "Epoch: 128/14999 | Loss: 0.0204 | Episodes: 28 | Win count: 32 | Win rate: 1.000 | time: 11.81 minutes\n",
      "Epoch: 129/14999 | Loss: 0.0048 | Episodes: 6 | Win count: 32 | Win rate: 1.000 | time: 11.83 minutes\n",
      "Epoch: 130/14999 | Loss: 0.0318 | Episodes: 27 | Win count: 32 | Win rate: 1.000 | time: 11.87 minutes\n",
      "Epoch: 131/14999 | Loss: 0.0095 | Episodes: 13 | Win count: 32 | Win rate: 1.000 | time: 11.90 minutes\n",
      "Epoch: 132/14999 | Loss: 0.0421 | Episodes: 29 | Win count: 32 | Win rate: 1.000 | time: 11.95 minutes\n",
      "Epoch: 133/14999 | Loss: 0.0749 | Episodes: 40 | Win count: 32 | Win rate: 1.000 | time: 12.02 minutes\n",
      "Epoch: 134/14999 | Loss: 0.0514 | Episodes: 26 | Win count: 32 | Win rate: 1.000 | time: 12.06 minutes\n",
      "Epoch: 135/14999 | Loss: 0.0197 | Episodes: 11 | Win count: 32 | Win rate: 1.000 | time: 12.08 minutes\n",
      "Epoch: 136/14999 | Loss: 0.0024 | Episodes: 2 | Win count: 32 | Win rate: 1.000 | time: 12.09 minutes\n",
      "Epoch: 137/14999 | Loss: 0.0501 | Episodes: 44 | Win count: 32 | Win rate: 1.000 | time: 12.16 minutes\n",
      "Epoch: 138/14999 | Loss: 0.0220 | Episodes: 13 | Win count: 32 | Win rate: 1.000 | time: 12.19 minutes\n",
      "Epoch: 139/14999 | Loss: 0.0633 | Episodes: 27 | Win count: 32 | Win rate: 1.000 | time: 12.24 minutes\n",
      "Epoch: 140/14999 | Loss: 0.0030 | Episodes: 2 | Win count: 32 | Win rate: 1.000 | time: 12.24 minutes\n",
      "Epoch: 141/14999 | Loss: 0.0102 | Episodes: 9 | Win count: 32 | Win rate: 1.000 | time: 12.26 minutes\n",
      "Epoch: 142/14999 | Loss: 0.0579 | Episodes: 24 | Win count: 32 | Win rate: 1.000 | time: 12.31 minutes\n",
      "Epoch: 143/14999 | Loss: 0.2363 | Episodes: 118 | Win count: 32 | Win rate: 1.000 | time: 12.52 minutes\n",
      "Epoch: 144/14999 | Loss: 0.0600 | Episodes: 31 | Win count: 32 | Win rate: 1.000 | time: 12.57 minutes\n",
      "Epoch: 145/14999 | Loss: 0.0683 | Episodes: 27 | Win count: 32 | Win rate: 1.000 | time: 12.62 minutes\n",
      "Epoch: 146/14999 | Loss: 0.0507 | Episodes: 23 | Win count: 32 | Win rate: 1.000 | time: 12.66 minutes\n",
      "Epoch: 147/14999 | Loss: 0.0315 | Episodes: 13 | Win count: 32 | Win rate: 1.000 | time: 12.69 minutes\n",
      "Epoch: 148/14999 | Loss: 0.0348 | Episodes: 20 | Win count: 32 | Win rate: 1.000 | time: 12.73 minutes\n",
      "Epoch: 149/14999 | Loss: 0.0220 | Episodes: 13 | Win count: 32 | Win rate: 1.000 | time: 12.75 minutes\n",
      "Epoch: 150/14999 | Loss: 0.1178 | Episodes: 76 | Win count: 32 | Win rate: 1.000 | time: 12.90 minutes\n",
      "Epoch: 151/14999 | Loss: 0.0617 | Episodes: 46 | Win count: 32 | Win rate: 1.000 | time: 12.98 minutes\n",
      "Epoch: 152/14999 | Loss: 0.0239 | Episodes: 21 | Win count: 32 | Win rate: 1.000 | time: 13.02 minutes\n",
      "Epoch: 153/14999 | Loss: 0.0112 | Episodes: 11 | Win count: 32 | Win rate: 1.000 | time: 13.04 minutes\n",
      "Epoch: 154/14999 | Loss: 0.0796 | Episodes: 64 | Win count: 32 | Win rate: 1.000 | time: 13.14 minutes\n",
      "Epoch: 155/14999 | Loss: 0.0191 | Episodes: 15 | Win count: 32 | Win rate: 1.000 | time: 13.17 minutes\n",
      "Epoch: 156/14999 | Loss: 0.0155 | Episodes: 14 | Win count: 32 | Win rate: 1.000 | time: 13.19 minutes\n",
      "Epoch: 157/14999 | Loss: 0.0357 | Episodes: 32 | Win count: 32 | Win rate: 1.000 | time: 13.24 minutes\n",
      "Epoch: 158/14999 | Loss: 0.0115 | Episodes: 10 | Win count: 32 | Win rate: 1.000 | time: 13.26 minutes\n",
      "Epoch: 159/14999 | Loss: 0.0240 | Episodes: 27 | Win count: 32 | Win rate: 1.000 | time: 13.31 minutes\n",
      "Epoch: 160/14999 | Loss: 0.0520 | Episodes: 51 | Win count: 32 | Win rate: 1.000 | time: 13.39 minutes\n",
      "Epoch: 161/14999 | Loss: 0.0304 | Episodes: 27 | Win count: 32 | Win rate: 1.000 | time: 13.44 minutes\n",
      "Epoch: 162/14999 | Loss: 0.0214 | Episodes: 22 | Win count: 32 | Win rate: 1.000 | time: 13.48 minutes\n",
      "Epoch: 163/14999 | Loss: 0.0376 | Episodes: 34 | Win count: 32 | Win rate: 1.000 | time: 13.53 minutes\n",
      "Epoch: 164/14999 | Loss: 0.0016 | Episodes: 2 | Win count: 32 | Win rate: 1.000 | time: 13.53 minutes\n",
      "Epoch: 165/14999 | Loss: 0.0015 | Episodes: 2 | Win count: 32 | Win rate: 1.000 | time: 13.54 minutes\n",
      "Epoch: 166/14999 | Loss: 0.0091 | Episodes: 9 | Win count: 32 | Win rate: 1.000 | time: 13.55 minutes\n",
      "Epoch: 167/14999 | Loss: 0.0119 | Episodes: 11 | Win count: 32 | Win rate: 1.000 | time: 13.58 minutes\n",
      "Epoch: 168/14999 | Loss: 0.0246 | Episodes: 29 | Win count: 32 | Win rate: 1.000 | time: 13.62 minutes\n",
      "Epoch: 169/14999 | Loss: 0.0052 | Episodes: 5 | Win count: 32 | Win rate: 1.000 | time: 13.63 minutes\n",
      "Epoch: 170/14999 | Loss: 0.0294 | Episodes: 28 | Win count: 32 | Win rate: 1.000 | time: 13.68 minutes\n",
      "Epoch: 171/14999 | Loss: 0.0135 | Episodes: 17 | Win count: 32 | Win rate: 1.000 | time: 13.71 minutes\n",
      "Epoch: 172/14999 | Loss: 0.0171 | Episodes: 19 | Win count: 32 | Win rate: 1.000 | time: 13.74 minutes\n",
      "Epoch: 173/14999 | Loss: 0.0008 | Episodes: 1 | Win count: 32 | Win rate: 1.000 | time: 13.74 minutes\n",
      "Epoch: 174/14999 | Loss: 0.0050 | Episodes: 6 | Win count: 32 | Win rate: 1.000 | time: 13.75 minutes\n",
      "Epoch: 175/14999 | Loss: 0.0153 | Episodes: 17 | Win count: 32 | Win rate: 1.000 | time: 13.79 minutes\n",
      "Epoch: 176/14999 | Loss: 0.0020 | Episodes: 3 | Win count: 32 | Win rate: 1.000 | time: 13.79 minutes\n",
      "Epoch: 177/14999 | Loss: 0.0247 | Episodes: 26 | Win count: 32 | Win rate: 1.000 | time: 13.84 minutes\n",
      "Epoch: 178/14999 | Loss: 0.0142 | Episodes: 17 | Win count: 32 | Win rate: 1.000 | time: 13.86 minutes\n",
      "Epoch: 179/14999 | Loss: 0.0085 | Episodes: 11 | Win count: 32 | Win rate: 1.000 | time: 13.88 minutes\n",
      "Epoch: 180/14999 | Loss: 0.0214 | Episodes: 27 | Win count: 32 | Win rate: 1.000 | time: 13.93 minutes\n",
      "Epoch: 181/14999 | Loss: 0.0139 | Episodes: 18 | Win count: 32 | Win rate: 1.000 | time: 13.95 minutes\n",
      "Epoch: 182/14999 | Loss: 0.0123 | Episodes: 17 | Win count: 32 | Win rate: 1.000 | time: 13.98 minutes\n",
      "Epoch: 183/14999 | Loss: 0.0267 | Episodes: 33 | Win count: 32 | Win rate: 1.000 | time: 14.03 minutes\n",
      "Epoch: 184/14999 | Loss: 0.0227 | Episodes: 30 | Win count: 32 | Win rate: 1.000 | time: 14.08 minutes\n",
      "Epoch: 185/14999 | Loss: 0.0124 | Episodes: 14 | Win count: 32 | Win rate: 1.000 | time: 14.10 minutes\n",
      "Epoch: 186/14999 | Loss: 0.0223 | Episodes: 28 | Win count: 32 | Win rate: 1.000 | time: 14.15 minutes\n",
      "Epoch: 187/14999 | Loss: 0.0028 | Episodes: 4 | Win count: 32 | Win rate: 1.000 | time: 14.16 minutes\n",
      "Epoch: 188/14999 | Loss: 0.0133 | Episodes: 21 | Win count: 32 | Win rate: 1.000 | time: 14.19 minutes\n",
      "Epoch: 189/14999 | Loss: 0.0083 | Episodes: 15 | Win count: 32 | Win rate: 1.000 | time: 14.22 minutes\n",
      "Epoch: 190/14999 | Loss: 0.0045 | Episodes: 8 | Win count: 32 | Win rate: 1.000 | time: 14.23 minutes\n",
      "Epoch: 191/14999 | Loss: 0.0124 | Episodes: 18 | Win count: 32 | Win rate: 1.000 | time: 14.26 minutes\n",
      "Epoch: 192/14999 | Loss: 0.0198 | Episodes: 25 | Win count: 32 | Win rate: 1.000 | time: 14.30 minutes\n",
      "Epoch: 193/14999 | Loss: 0.0894 | Episodes: 130 | Win count: 31 | Win rate: 0.969 | time: 14.50 minutes\n",
      "Epoch: 194/14999 | Loss: 0.0008 | Episodes: 1 | Win count: 31 | Win rate: 0.969 | time: 14.50 minutes\n",
      "Epoch: 195/14999 | Loss: 0.0161 | Episodes: 26 | Win count: 31 | Win rate: 0.969 | time: 14.54 minutes\n",
      "Epoch: 196/14999 | Loss: 0.0154 | Episodes: 23 | Win count: 31 | Win rate: 0.969 | time: 14.58 minutes\n",
      "Epoch: 197/14999 | Loss: 0.0130 | Episodes: 21 | Win count: 31 | Win rate: 0.969 | time: 14.61 minutes\n",
      "Epoch: 198/14999 | Loss: 0.0072 | Episodes: 11 | Win count: 31 | Win rate: 0.969 | time: 14.63 minutes\n",
      "Epoch: 199/14999 | Loss: 0.0232 | Episodes: 33 | Win count: 31 | Win rate: 0.969 | time: 14.68 minutes\n",
      "Epoch: 200/14999 | Loss: 0.0110 | Episodes: 17 | Win count: 31 | Win rate: 0.969 | time: 14.71 minutes\n",
      "Epoch: 201/14999 | Loss: 0.0286 | Episodes: 33 | Win count: 31 | Win rate: 0.969 | time: 14.76 minutes\n",
      "Epoch: 202/14999 | Loss: 0.0108 | Episodes: 15 | Win count: 31 | Win rate: 0.969 | time: 14.78 minutes\n",
      "Epoch: 203/14999 | Loss: 0.0161 | Episodes: 21 | Win count: 31 | Win rate: 0.969 | time: 14.82 minutes\n",
      "Epoch: 204/14999 | Loss: 0.0370 | Episodes: 46 | Win count: 31 | Win rate: 0.969 | time: 14.88 minutes\n",
      "Epoch: 205/14999 | Loss: 0.0090 | Episodes: 19 | Win count: 31 | Win rate: 0.969 | time: 14.91 minutes\n",
      "Epoch: 206/14999 | Loss: 0.0073 | Episodes: 17 | Win count: 31 | Win rate: 0.969 | time: 14.94 minutes\n",
      "Epoch: 207/14999 | Loss: 0.0435 | Episodes: 110 | Win count: 31 | Win rate: 0.969 | time: 15.08 minutes\n",
      "Epoch: 208/14999 | Loss: 0.0102 | Episodes: 24 | Win count: 31 | Win rate: 0.969 | time: 15.12 minutes\n",
      "Epoch: 209/14999 | Loss: 0.0105 | Episodes: 23 | Win count: 31 | Win rate: 0.969 | time: 15.15 minutes\n",
      "Epoch: 210/14999 | Loss: 0.0113 | Episodes: 23 | Win count: 31 | Win rate: 0.969 | time: 15.19 minutes\n",
      "Epoch: 211/14999 | Loss: 0.0061 | Episodes: 16 | Win count: 31 | Win rate: 0.969 | time: 15.22 minutes\n",
      "Epoch: 212/14999 | Loss: 0.0121 | Episodes: 24 | Win count: 31 | Win rate: 0.969 | time: 15.25 minutes\n",
      "Epoch: 213/14999 | Loss: 0.0049 | Episodes: 10 | Win count: 31 | Win rate: 0.969 | time: 15.27 minutes\n",
      "Epoch: 214/14999 | Loss: 0.0128 | Episodes: 27 | Win count: 31 | Win rate: 0.969 | time: 15.31 minutes\n",
      "Epoch: 215/14999 | Loss: 0.0029 | Episodes: 7 | Win count: 31 | Win rate: 0.969 | time: 15.32 minutes\n",
      "Epoch: 216/14999 | Loss: 0.0005 | Episodes: 2 | Win count: 31 | Win rate: 0.969 | time: 15.32 minutes\n",
      "Epoch: 217/14999 | Loss: 0.0050 | Episodes: 9 | Win count: 31 | Win rate: 0.969 | time: 15.34 minutes\n",
      "Epoch: 218/14999 | Loss: 0.0040 | Episodes: 9 | Win count: 31 | Win rate: 0.969 | time: 15.36 minutes\n",
      "Epoch: 219/14999 | Loss: 0.0027 | Episodes: 5 | Win count: 31 | Win rate: 0.969 | time: 15.36 minutes\n",
      "Epoch: 220/14999 | Loss: 0.0108 | Episodes: 23 | Win count: 31 | Win rate: 0.969 | time: 15.41 minutes\n",
      "Epoch: 221/14999 | Loss: 0.0110 | Episodes: 25 | Win count: 31 | Win rate: 0.969 | time: 15.45 minutes\n",
      "Epoch: 222/14999 | Loss: 0.0086 | Episodes: 23 | Win count: 31 | Win rate: 0.969 | time: 15.49 minutes\n",
      "Epoch: 223/14999 | Loss: 0.0125 | Episodes: 29 | Win count: 31 | Win rate: 0.969 | time: 15.54 minutes\n",
      "Epoch: 224/14999 | Loss: 0.0206 | Episodes: 41 | Win count: 31 | Win rate: 0.969 | time: 15.61 minutes\n",
      "Epoch: 225/14999 | Loss: 0.0070 | Episodes: 17 | Win count: 32 | Win rate: 1.000 | time: 15.63 minutes\n",
      "Epoch: 226/14999 | Loss: 0.0237 | Episodes: 41 | Win count: 32 | Win rate: 1.000 | time: 15.70 minutes\n",
      "Epoch: 227/14999 | Loss: 0.0187 | Episodes: 32 | Win count: 32 | Win rate: 1.000 | time: 15.76 minutes\n",
      "Epoch: 228/14999 | Loss: 0.0006 | Episodes: 1 | Win count: 32 | Win rate: 1.000 | time: 15.77 minutes\n",
      "Epoch: 229/14999 | Loss: 0.0022 | Episodes: 6 | Win count: 32 | Win rate: 1.000 | time: 15.79 minutes\n",
      "Epoch: 230/14999 | Loss: 0.0074 | Episodes: 13 | Win count: 32 | Win rate: 1.000 | time: 15.81 minutes\n",
      "Epoch: 231/14999 | Loss: 0.0097 | Episodes: 16 | Win count: 32 | Win rate: 1.000 | time: 15.84 minutes\n",
      "Epoch: 232/14999 | Loss: 0.0021 | Episodes: 5 | Win count: 32 | Win rate: 1.000 | time: 15.86 minutes\n",
      "Epoch: 233/14999 | Loss: 0.0115 | Episodes: 20 | Win count: 32 | Win rate: 1.000 | time: 15.90 minutes\n",
      "Epoch: 234/14999 | Loss: 0.0171 | Episodes: 20 | Win count: 32 | Win rate: 1.000 | time: 15.94 minutes\n",
      "Epoch: 235/14999 | Loss: 0.0167 | Episodes: 30 | Win count: 32 | Win rate: 1.000 | time: 15.99 minutes\n",
      "Epoch: 236/14999 | Loss: 0.0156 | Episodes: 27 | Win count: 32 | Win rate: 1.000 | time: 16.04 minutes\n",
      "Epoch: 237/14999 | Loss: 0.0216 | Episodes: 34 | Win count: 32 | Win rate: 1.000 | time: 16.10 minutes\n",
      "Epoch: 238/14999 | Loss: 0.0047 | Episodes: 9 | Win count: 32 | Win rate: 1.000 | time: 16.12 minutes\n",
      "Epoch: 239/14999 | Loss: 0.0218 | Episodes: 33 | Win count: 32 | Win rate: 1.000 | time: 16.18 minutes\n",
      "Epoch: 240/14999 | Loss: 0.0109 | Episodes: 17 | Win count: 32 | Win rate: 1.000 | time: 16.21 minutes\n",
      "Epoch: 241/14999 | Loss: 0.0214 | Episodes: 32 | Win count: 32 | Win rate: 1.000 | time: 16.26 minutes\n",
      "Epoch: 242/14999 | Loss: 0.0116 | Episodes: 13 | Win count: 32 | Win rate: 1.000 | time: 16.29 minutes\n",
      "Epoch: 243/14999 | Loss: 0.0017 | Episodes: 3 | Win count: 32 | Win rate: 1.000 | time: 16.30 minutes\n",
      "Epoch: 244/14999 | Loss: 0.0096 | Episodes: 17 | Win count: 32 | Win rate: 1.000 | time: 16.33 minutes\n",
      "Epoch: 245/14999 | Loss: 0.0011 | Episodes: 3 | Win count: 32 | Win rate: 1.000 | time: 16.33 minutes\n",
      "Epoch: 246/14999 | Loss: 0.0092 | Episodes: 15 | Win count: 32 | Win rate: 1.000 | time: 16.39 minutes\n",
      "Epoch: 247/14999 | Loss: 0.0082 | Episodes: 10 | Win count: 32 | Win rate: 1.000 | time: 16.41 minutes\n",
      "Epoch: 248/14999 | Loss: 0.0274 | Episodes: 31 | Win count: 32 | Win rate: 1.000 | time: 16.48 minutes\n",
      "Epoch: 249/14999 | Loss: 0.0015 | Episodes: 2 | Win count: 32 | Win rate: 1.000 | time: 16.48 minutes\n",
      "Epoch: 250/14999 | Loss: 0.0134 | Episodes: 21 | Win count: 32 | Win rate: 1.000 | time: 16.52 minutes\n",
      "Epoch: 251/14999 | Loss: 0.0149 | Episodes: 26 | Win count: 32 | Win rate: 1.000 | time: 16.56 minutes\n",
      "Epoch: 252/14999 | Loss: 0.0090 | Episodes: 18 | Win count: 32 | Win rate: 1.000 | time: 16.61 minutes\n",
      "Epoch: 253/14999 | Loss: 0.0041 | Episodes: 6 | Win count: 32 | Win rate: 1.000 | time: 16.62 minutes\n",
      "Epoch: 254/14999 | Loss: 0.0074 | Episodes: 13 | Win count: 32 | Win rate: 1.000 | time: 16.65 minutes\n",
      "Reached 100% win rate at epoch: 254\n",
      "n_epoch: 254, max_mem: 512, data: 32, time: 16.66 minutes\n"
     ]
    },
    {
     "data": {
      "text/plain": [
       "999.59666"
      ]
     },
     "execution_count": 11,
     "metadata": {},
     "output_type": "execute_result"
    }
   ],
   "source": [
    "model = build_model(maze)\n",
    "qtrain(model, maze, epochs=1000, max_memory=8*maze.size, data_size=32)"
   ]
  },
  {
   "cell_type": "markdown",
   "metadata": {},
   "source": [
    "This cell will check to see if the model passes the completion check. Note: This could take several minutes."
   ]
  },
  {
   "cell_type": "code",
   "execution_count": 12,
   "metadata": {},
   "outputs": [
    {
     "data": {
      "text/plain": [
       "<matplotlib.image.AxesImage at 0x22d8accb888>"
      ]
     },
     "execution_count": 12,
     "metadata": {},
     "output_type": "execute_result"
    },
    {
     "data": {
      "image/png": "[encoded data removed]",
      "text/plain": [
       "<Figure size 432x288 with 1 Axes>"
      ]
     },
     "metadata": {
      "needs_background": "light"
     },
     "output_type": "display_data"
    }
   ],
   "source": [
    "completion_check(model, qmaze)\n",
    "show(qmaze)"
   ]
  },
  {
   "cell_type": "markdown",
   "metadata": {},
   "source": [
    "This cell will test your model for one game. It will start the pirate at the top-left corner and run play_game. The agent should find a path from the starting position to the target (treasure). The treasure is located in the bottom-right corner."
   ]
  },
  {
   "cell_type": "code",
   "execution_count": 13,
   "metadata": {},
   "outputs": [
    {
     "data": {
      "text/plain": [
       "<matplotlib.image.AxesImage at 0x22d8b1b9e48>"
      ]
     },
     "execution_count": 13,
     "metadata": {},
     "output_type": "execute_result"
    },
    {
     "data": {
      "image/png": "[encoded data removed]",
      "text/plain": [
       "<Figure size 432x288 with 1 Axes>"
      ]
     },
     "metadata": {
      "needs_background": "light"
     },
     "output_type": "display_data"
    }
   ],
   "source": [
    "pirate_start = (0, 0)\n",
    "play_game(model, qmaze, pirate_start)\n",
    "show(qmaze)"
   ]
  },
  {
   "cell_type": "markdown",
   "metadata": {},
   "source": [
    "## Save and Submit Your Work\n",
    "After you have finished creating the code for your notebook, save your work. Make sure that your notebook contains your name in the filename (e.g. Doe_Jane_ProjectTwo.ipynb). This will help your instructor access and grade your work easily. Download a copy of your IPYNB file and submit it to Brightspace. Refer to the Jupyter Notebook in Apporto Tutorial if you need help with these tasks."
   ]
  },
  {
   "cell_type": "code",
   "execution_count": null,
   "metadata": {},
   "outputs": [],
   "source": []
  }
 ],
 "metadata": {
  "kernelspec": {
   "display_name": "Python 3",
   "language": "python",
   "name": "python3"
  },
  "language_info": {
   "codemirror_mode": {
    "name": "ipython",
    "version": 3
   },
   "file_extension": ".py",
   "mimetype": "text/x-python",
   "name": "python",
   "nbconvert_exporter": "python",
   "pygments_lexer": "ipython3",
   "version": "3.7.4"
  }
 },
 "nbformat": 4,
 "nbformat_minor": 2
}
